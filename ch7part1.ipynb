{
  "cells": [
    {
      "cell_type": "markdown",
      "metadata": {
        "id": "view-in-github",
        "colab_type": "text"
      },
      "source": [
        "<a href=\"https://colab.research.google.com/github/lanigaines/Notebook7-/blob/main/ch7part1.ipynb\" target=\"_parent\"><img src=\"https://colab.research.google.com/assets/colab-badge.svg\" alt=\"Open In Colab\"/></a>"
      ]
    },
    {
      "cell_type": "markdown",
      "metadata": {
        "id": "c-L-fjvaNnTd"
      },
      "source": [
        "<style>\n",
        "\th1 {\n",
        "\t--\tbackground-color: grey;\n",
        "\t\tcolor: yellow\n",
        "\t\tborder: 3px solid grey\n",
        "\n",
        "\t}\n",
        "\tp {\n",
        "\t\tbackground-color: grey;\n",
        "\t\tcolor: white\n",
        "\t\tborder: 3px solid grey\n",
        "\n",
        "\t}\n",
        "</style>\n",
        "<h1> Chapter 7 List: Part 1</h1>"
      ]
    },
    {
      "cell_type": "markdown",
      "metadata": {
        "id": "asZ0jg8LNnTe"
      },
      "source": [
        "<p style=\"margin-left:40px\"> 7.1 Basic Examples of List</p>\n",
        "\n",
        "<p style=\"margin-left:40px\"> 7.2 Understanding the \"Mutable Data Type\" </p>\n",
        "\n",
        "<p style=\"margin-left:40px\"> 7.3 Handing the list index out of range error </p>\n",
        "\n",
        "<p style=\"margin-left:40px\"> 7.4 List of List </p>\n",
        "\n",
        "<p style=\"margin-left:40px\"> 7.5 any() and all() </p>\n"
      ]
    },
    {
      "cell_type": "markdown",
      "metadata": {
        "id": "GllCNtK8NnTe"
      },
      "source": [
        "***\n",
        "\n",
        "## <p style=\"background-color: grey; color: white \"> ◼️  List </p>\n",
        "# <p style=\"font-family: Arial; font-size:1.4em;color:red;\"> 1. Basic Examples of List</p>\n"
      ]
    },
    {
      "cell_type": "markdown",
      "metadata": {
        "id": "bNzgMCQsNnTe"
      },
      "source": [
        "<style>\n",
        "\th3{\n",
        "\t\tbackground-color: grey\n",
        "\t\tcolor: white\n",
        "\t}\n",
        "</style>\n",
        "\n",
        "<h1> Understanding the \"Mutable Data Type\"  </h1>\n",
        "\n",
        "- Run all the following code cells and check out the result of code segments"
      ]
    },
    {
      "cell_type": "markdown",
      "metadata": {
        "id": "DOYDu4gCNnTe"
      },
      "source": [
        "#### <p style=\"font-family: Arial; font-size:1.4em; background-color: yellow; color:black;\"> Problem #1.0 </p>\n",
        "\n",
        "#### Run all the cells and figure out the Mutal Data Type"
      ]
    },
    {
      "cell_type": "markdown",
      "metadata": {
        "id": "Jc07YPttNnTe"
      },
      "source": [
        "### What is the value of numbers1 after run the following code cell?"
      ]
    },
    {
      "cell_type": "code",
      "execution_count": null,
      "metadata": {
        "id": "b5jFDj6YNnTe",
        "outputId": "2587ccd5-0f37-4283-bc5c-89797971bd7f",
        "colab": {
          "base_uri": "https://localhost:8080/"
        }
      },
      "outputs": [
        {
          "output_type": "execute_result",
          "data": {
            "text/plain": [
              "[6, 7]"
            ]
          },
          "metadata": {},
          "execution_count": 128
        }
      ],
      "source": [
        "numbers1 = [1,2,3,4,5,6,7]\n",
        "numbers2 = numbers1\n",
        "\n",
        "del numbers2[:5]\n",
        "\n",
        "numbers1"
      ]
    },
    {
      "cell_type": "markdown",
      "source": [
        "## 1.0 **done**"
      ],
      "metadata": {
        "id": "UYXyFZWpSAb4"
      }
    },
    {
      "cell_type": "markdown",
      "metadata": {
        "id": "5s1oSzjpNnTf"
      },
      "source": [
        "#### <p style=\"font-family: Arial; font-size:1.4em; background-color: yellow; color:black;\"> Problem #1.1 </p>\n",
        "\n",
        "#### Figure out the difference between the following two code segments\n",
        "\n",
        "#### The first code segment:\n",
        "- the number is integer value in the function.\n",
        "- The value of the number is changed by the function\n",
        "- Check the value in the caller function main()\n",
        "- The change of the value of the number is not reflected in the caller function\n",
        "\n",
        "#### The second code segment:\n",
        "- The list is a mutable data type\n",
        "- The value of the list is changed by the function\n",
        "- Check the value in the caller function main()\n",
        "- The change of the value of the list is reflected in the caller function\n",
        "\n",
        "## Explain the output of the following code segments. <br> Elaborate the reason why the output is as such."
      ]
    },
    {
      "cell_type": "code",
      "execution_count": null,
      "metadata": {
        "id": "uFyj2q2rNnTf",
        "outputId": "7c8f5c34-2671-40a5-c244-7a27da5dc857",
        "colab": {
          "base_uri": "https://localhost:8080/"
        }
      },
      "outputs": [
        {
          "output_type": "stream",
          "name": "stdout",
          "text": [
            "number in main(): -1\n"
          ]
        }
      ],
      "source": [
        "def myfuntion(number):\n",
        "    number = 100\n",
        "\n",
        "number = -1\n",
        "myfuntion(number)\n",
        "print ('number in main():', number)\n",
        "# number in main(): -1. Change of the value of the number is not reflected in the caller function"
      ]
    },
    {
      "cell_type": "code",
      "execution_count": null,
      "metadata": {
        "id": "ppUBmRlwNnTf",
        "outputId": "83ba6d02-2f2f-4490-e960-f39e05fef4cd",
        "colab": {
          "base_uri": "https://localhost:8080/"
        }
      },
      "outputs": [
        {
          "output_type": "stream",
          "name": "stdout",
          "text": [
            "numbers in main(): [100]\n"
          ]
        }
      ],
      "source": [
        "def myfunction(numbers):\n",
        "    numbers[0] = 100\n",
        "\n",
        "numbers = [-1]\n",
        "myfunction(numbers)\n",
        "print ('numbers in main():', numbers)\n",
        "# numbers in main(): [100]. Change of the value of the list is reflected in the caller function\n"
      ]
    },
    {
      "cell_type": "markdown",
      "source": [
        "**bold text# 1.1 done**\n",
        "\n",
        "\n"
      ],
      "metadata": {
        "id": "ugr1YVa1SIWM"
      }
    },
    {
      "cell_type": "markdown",
      "metadata": {
        "id": "h5GcMliRNnTf"
      },
      "source": [
        "#### <p style=\"font-family: Arial; font-size:1.4em; background-color: yellow; color:black;\"> Problem #1.2 </p>\n",
        "\n",
        "#### List the other data types that are working as the same way as the list in the above code segments.\n",
        "### Choose the data types from the following list:\n",
        "- String\n",
        "- Tuple\n",
        "- Dictionary\n",
        "- Set\n",
        "\n",
        "- int\n",
        "- float\n",
        "- boolean\n",
        "\n"
      ]
    },
    {
      "cell_type": "markdown",
      "source": [
        "-Dictionary\n",
        "-Set"
      ],
      "metadata": {
        "id": "u0H1arC_ShSy"
      }
    },
    {
      "cell_type": "markdown",
      "metadata": {
        "id": "ynB89Zx5NnTf"
      },
      "source": [
        "#### <p style=\"font-family: Arial; font-size:1.4em; background-color: yellow; color:black;\"> Problem #1.3 </p>\n",
        "\n",
        "#### Review the following methods of the list data type.\n",
        "- append()\n",
        "- extend()\n",
        "- insert()\n",
        "- remove()\n",
        "- sort()\n",
        "- reverse()\n",
        "- pop()\n",
        "- count()\n",
        "- index()\n",
        "- copy()\n",
        "- clear()\n",
        "\n",
        "\n"
      ]
    },
    {
      "cell_type": "markdown",
      "metadata": {
        "id": "S1Knk_bTNnTf"
      },
      "source": [
        "## Concatenation of the List\n",
        "```\n",
        "n1 = [1,2,3]\n",
        "n2 = [4,5,6]\n",
        "```\n",
        "\n",
        "### complete your code here to concatenate the two lists"
      ]
    },
    {
      "cell_type": "code",
      "execution_count": null,
      "metadata": {
        "id": "WYHeuwlUNnTf"
      },
      "outputs": [],
      "source": [
        "# your code here"
      ]
    },
    {
      "cell_type": "markdown",
      "metadata": {
        "id": "yamPVVTUNnTg"
      },
      "source": [
        "## Sort the list in the descending order\n",
        "```\n",
        "import random\n",
        "numbers = random.sample(range(1,100), 10)\n",
        "print (numbers)\n",
        "```\n",
        "\n",
        "### complete your code here to sort the list in the descending order\n",
        "\n"
      ]
    },
    {
      "cell_type": "code",
      "execution_count": null,
      "metadata": {
        "id": "OObnqaR7NnTg"
      },
      "outputs": [],
      "source": []
    },
    {
      "cell_type": "markdown",
      "metadata": {
        "id": "7vzlASwZNnTg"
      },
      "source": [
        "## Figoure out the difference between the following statements\n",
        "```\n",
        "numbers1 = [1,2,3,4,5,6,7,8,9,10]\n",
        "numbers2 = numbers1\n",
        "numbers3 = number1[:]\n",
        "numbers4 = number1.copy()\n",
        "```\n",
        "\n",
        "### complete your code here to test the above statements\n",
        "### Make some changes to the list numbers1 and check the output of numbers2, numbers3, and numbers4\n",
        "### Elaborate the reason why the output is as such.\n",
        "\n",
        "\n"
      ]
    },
    {
      "cell_type": "markdown",
      "metadata": {
        "id": "r2UELTbWNnTg"
      },
      "source": [
        "<mark> Save your file by pressing \"Ctrl+S\" or \"git commit -m \"your message\"\" </mark>"
      ]
    },
    {
      "cell_type": "markdown",
      "metadata": {
        "id": "-H9_8uB_NnTg"
      },
      "source": [
        "***\n",
        "\n",
        "## <p style=\"background-color: grey; color: white \"> ◼️  List </p>\n",
        "# <p style=\"font-family: Arial; font-size:1.4em;color:red;\"> 2. Understanding the \"Immutable Data Type\" </p>\n"
      ]
    },
    {
      "cell_type": "markdown",
      "metadata": {
        "id": "L4aHp6FvNnTg"
      },
      "source": [
        "# Object Identity\n",
        "- this specific memory address is what you’ll know as the object’s identity.\n",
        "- This identity is a unique identifier that distinguishes one object from others.\n",
        "- You can use the id() function to find out the identity of an object.\n",
        "\n",
        "\n",
        "\n",
        "\n",
        "\n",
        "\n",
        "\n"
      ]
    },
    {
      "cell_type": "markdown",
      "metadata": {
        "id": "WeZ_xKwkNnTg"
      },
      "source": [
        "#### <p style=\"font-family: Arial; font-size:1.4em; background-color: yellow; color:black;\"> Problem #2.0 </p>"
      ]
    },
    {
      "cell_type": "markdown",
      "metadata": {
        "id": "l4kApn0iNnTg"
      },
      "source": [
        "### Even you use the same value, the identity of the object is different.\n",
        "### Because the integer is an immutable data type.\n",
        "\n",
        "#### Run the following code segment and figure out the identity of the object"
      ]
    },
    {
      "cell_type": "code",
      "execution_count": null,
      "metadata": {
        "id": "BtO-cEiDNnTg"
      },
      "outputs": [],
      "source": [
        "num: int = 10\n",
        "\n",
        "id(num)"
      ]
    },
    {
      "cell_type": "code",
      "execution_count": null,
      "metadata": {
        "id": "exTB-y8mNnTg"
      },
      "outputs": [],
      "source": [
        "num = 20    # The identity of the object is different even if you use the same variable\n",
        "id(num)"
      ]
    },
    {
      "cell_type": "markdown",
      "metadata": {
        "id": "Y44bcpUWNnTg"
      },
      "source": [
        "#### <p style=\"font-family: Arial; font-size:1.4em; background-color: yellow; color:black;\"> Problem #2.1 </p>"
      ]
    },
    {
      "cell_type": "markdown",
      "metadata": {
        "id": "4RfyIQ9NNnTg"
      },
      "source": [
        "### For the list data type, the identity of the object is the same.\n",
        "### Because the list is a mutable data type.\n",
        "\n",
        "#### Run the following code segment and figure out the identity of the list numbers1 and numbers2\n",
        "#### Elaborate the reason why the identity of the list is the same."
      ]
    },
    {
      "cell_type": "code",
      "execution_count": null,
      "metadata": {
        "id": "QaRJMwwzNnTg"
      },
      "outputs": [],
      "source": [
        "numbers1 = [1,2,3]\n",
        "numbers2 = numbers1\n",
        "\n",
        "print (id(numbers1), id(numbers2))\n",
        "# The identity of the object is the same."
      ]
    },
    {
      "cell_type": "markdown",
      "metadata": {
        "id": "roXCyMXnNnTh"
      },
      "source": [
        "#### <p style=\"font-family: Arial; font-size:1.4em; background-color: yellow; color:black;\"> Problem #2.2 </p>"
      ]
    },
    {
      "cell_type": "markdown",
      "metadata": {
        "id": "98NFi3jTNnTh"
      },
      "source": [
        "### In function call, the identities of the list are the same.  \n",
        "### Because the list is a mutable data type.\n",
        "```\n",
        "def myfunction(numbers):\n",
        "    numbers[0] = 100\n",
        "\n",
        "numbers = [1,2,3]\n",
        "myfunction(numbers)\n",
        "print (numbers)\n",
        "```\n",
        "### The identity of the list is the same.\n",
        "\n",
        "Make the code segment to show the identity of the list is the same.\n",
        "\n",
        "- Elaborate the reason why the identity of the list is the same.\n",
        "\n"
      ]
    },
    {
      "cell_type": "code",
      "execution_count": null,
      "metadata": {
        "id": "madDpMZWNnTk"
      },
      "outputs": [],
      "source": [
        "# Complete the above code segment to show the identity of the list is the same."
      ]
    },
    {
      "cell_type": "markdown",
      "metadata": {
        "id": "KQQdhSsdNnTl"
      },
      "source": [
        "<mark> Save your file by pressing \"Ctrl+S\" or \"git commit -m \"your message\"\" </mark>"
      ]
    },
    {
      "cell_type": "markdown",
      "metadata": {
        "id": "vmRKjHNHNnTl"
      },
      "source": [
        "***\n",
        "\n",
        "## <p style=\"background-color: grey; color: white \"> ◼️  List </p>\n",
        "# <p style=\"font-family: Arial; font-size:1.4em;color:red;\"> 3. Handing the list index out of range error </p>\n"
      ]
    },
    {
      "cell_type": "markdown",
      "metadata": {
        "id": "BUIslKygNnTl"
      },
      "source": [
        "#### <p style=\"font-family: Arial; font-size:1.4em; background-color: yellow; color:black;\"> Problem #3.1 </p>"
      ]
    },
    {
      "cell_type": "markdown",
      "metadata": {
        "id": "jxijo4XtNnTl"
      },
      "source": [
        "## [1] Figure out the index error situation"
      ]
    },
    {
      "cell_type": "markdown",
      "metadata": {
        "id": "acA-sWiiNnTl"
      },
      "source": [
        "### 1) Error or Not ?\n",
        "\n",
        "```\n",
        "numbers = [1,2,3]\n",
        "numbers[3] = 100\n",
        "```\n",
        "\n",
        "### 2) Error or Not ?\n",
        "```\n",
        "print (numbers[:10])\n",
        "```"
      ]
    },
    {
      "cell_type": "code",
      "execution_count": null,
      "metadata": {
        "id": "cU0y53sbNnTl"
      },
      "outputs": [],
      "source": [
        "# Run the above code segments and figure out the index error situation\n",
        "\n"
      ]
    },
    {
      "cell_type": "code",
      "execution_count": null,
      "metadata": {
        "id": "W-J_iTZKNnTm",
        "outputId": "0041f553-21cd-4b83-b063-e5ccb0320403"
      },
      "outputs": [
        {
          "name": "stdout",
          "output_type": "stream",
          "text": [
            "[2, 3]\n"
          ]
        }
      ],
      "source": [
        "numbers = [1,2,3]\n",
        "# print (numbers[3])\n",
        "\n",
        "print (numbers[1:10])"
      ]
    },
    {
      "cell_type": "markdown",
      "metadata": {
        "id": "sXO_ICLXNnTm"
      },
      "source": [
        "#### <p style=\"font-family: Arial; font-size:1.4em; background-color: yellow; color:black;\"> Problem #3.2 </p>"
      ]
    },
    {
      "cell_type": "markdown",
      "metadata": {
        "id": "eJeOEd7fNnTm"
      },
      "source": [
        "## [2] Handling the index error situation with the try-except statement"
      ]
    },
    {
      "cell_type": "markdown",
      "metadata": {
        "id": "7zVr67DvNnTn"
      },
      "source": [
        "### Understanding the try-except statement\n",
        "\n",
        "``` Basic Syntax of the try-except statement\n",
        "try:\n",
        "    # Code block where exception might occur\n",
        "    # Your code here\n",
        "except ExceptionType as e:\n",
        "    # Code block to execute if an exception occurs\n",
        "    # Your code here\n",
        "else:\n",
        "    # Code block to execute if no exception occurs\n",
        "    # Your code here\n",
        "```\n",
        "\n"
      ]
    },
    {
      "cell_type": "markdown",
      "metadata": {
        "id": "r5iKZ3PQNnTn"
      },
      "source": [
        "#### Example 1"
      ]
    },
    {
      "cell_type": "code",
      "execution_count": null,
      "metadata": {
        "id": "jJX8MPVaNnTo"
      },
      "outputs": [],
      "source": [
        "#Example\n",
        "numbers = [1,2,3]\n",
        "try:\n",
        "    print (numbers[3])\n",
        "except Exception as e:\n",
        "    print (e)\n"
      ]
    },
    {
      "cell_type": "markdown",
      "metadata": {
        "id": "2dUp8ZNINnTo"
      },
      "source": [
        "#### Example 2"
      ]
    },
    {
      "cell_type": "code",
      "execution_count": null,
      "metadata": {
        "id": "sCqbATwUNnTo",
        "outputId": "84b7eb71-a697-45a8-ba4f-9e8aeedfe9e2"
      },
      "outputs": [
        {
          "name": "stdout",
          "output_type": "stream",
          "text": [
            "IndexError: list index out of range\n"
          ]
        }
      ],
      "source": [
        "# Example 2\n",
        "numbers = [1,2,3]\n",
        "try:\n",
        "    print (numbers[10])\n",
        "except IndexError:\n",
        "    print ('IndexError: list index out of range')\n",
        "else:\n",
        "    print ('No error')\n",
        "\n",
        "\n"
      ]
    },
    {
      "cell_type": "markdown",
      "metadata": {
        "id": "YRpLAZDCNnTp"
      },
      "source": [
        "## Main Adavatage of the try-except statement\n",
        "\n",
        "#### Die or Alive\n",
        "\n",
        "- In error situation, the program is not terminated.\n",
        "- The program can continue to run.\n",
        "\n",
        "\n",
        "\n"
      ]
    },
    {
      "cell_type": "markdown",
      "metadata": {
        "id": "Lj5tF4VmNnTp"
      },
      "source": [
        "## Error Keywords\n",
        "[Python Official Document for Errores and exception](https://docs.python.org/3/tutorial/errors.html)\n",
        "```\n",
        "Types of Exceptions\n",
        "Python has several built-in exception types. Some common ones include:\n",
        "- SyntaxError: Raised when there's a syntax error in the code.\n",
        "- NameError: Raised when a variable is not found in the local or global scope.\n",
        "- TypeError: Raised when an operation is performed on an inappropriate type.\n",
        "- ValueError: Raised when a function receives an argument of the correct type but an inappropriate value.\n",
        "- ZeroDivisionError: Raised when division or modulo by zero is performed.\n",
        "```\n",
        "\n"
      ]
    },
    {
      "cell_type": "markdown",
      "metadata": {
        "id": "KVcOoUYtNnTp"
      },
      "source": [
        "#### <p style=\"font-family: Arial; font-size:1.4em; background-color: yellow; color:black;\"> Problem #3.3 </p>"
      ]
    },
    {
      "cell_type": "markdown",
      "metadata": {
        "id": "sjcFMwkpNnTq"
      },
      "source": [
        "### Make the code segment to handle the index error situation with the try-except statement\n",
        "- There is 100 elements in the list numbers\n",
        "- A user will pick an index of the element in the list\n",
        "- Your program will print out the element in the list at the picked index\n",
        "- If the index is out of range, the program will print out the error message \"IndexError: list index out of range\". Use the try-except statement to handle the error.\n",
        "- If the index is valid, the program will print out the element in the list at the picked index\n",
        "\n"
      ]
    },
    {
      "cell_type": "code",
      "execution_count": null,
      "metadata": {
        "id": "0lfHHVv9NnTq",
        "outputId": "916334bd-2ea2-48dc-a544-2d09bc96c0d8"
      },
      "outputs": [
        {
          "name": "stdout",
          "output_type": "stream",
          "text": [
            "[42, 42, 58, 36, 20, 95, 71, 69, 27, 4, 90, 34, 31, 41, 50, 86, 50, 26, 84, 95, 79, 27, 35, 28, 35, 35, 65, 12, 94, 54, 70, 63, 31, 23, 33, 20, 68, 80, 88, 25, 55, 69, 69, 14, 13, 12, 83, 53, 84, 19, 18, 50, 92, 67, 60, 31, 84, 35, 33, 29, 88, 74, 9, 95, 76, 38, 66, 94, 80, 61, 81, 91, 65, 75, 40, 35, 92, 38, 93, 86, 46, 64, 97, 69, 46, 49, 3, 40, 76, 17, 86, 41, 5, 64, 25, 63, 47, 34, 11, 93]\n"
          ]
        }
      ],
      "source": [
        "import random\n",
        "\n",
        "numbers = [random.randint(1,100) for _ in range(100)]\n",
        "print (numbers)\n",
        "#****************************************************\n",
        "# code here\n",
        "#****************************************************/"
      ]
    },
    {
      "cell_type": "markdown",
      "metadata": {
        "id": "yEQfXtolNnTq"
      },
      "source": [
        "<mark> Save your file by pressing \"Ctrl+S\" or \"git commit -m \"your message\"\" </mark>"
      ]
    },
    {
      "cell_type": "markdown",
      "metadata": {
        "id": "wdyl-uWANnTq"
      },
      "source": [
        "***\n",
        "\n",
        "## <p style=\"background-color: grey; color: white \"> ◼️  List </p>\n",
        "# <p style=\"font-family: Arial; font-size:1.4em;color:red;\"> 4. List of List\n",
        "\n"
      ]
    },
    {
      "cell_type": "markdown",
      "metadata": {
        "id": "otDGInuQNnTq"
      },
      "source": [
        "#### <p style=\"font-family: Arial; font-size:1.4em; background-color: yellow; color:black;\"> Problem #4.1 </p>"
      ]
    },
    {
      "cell_type": "markdown",
      "metadata": {
        "id": "61jjG2FmNnTq"
      },
      "source": [
        "## There are students records in the list \"students\".\n",
        "```\n",
        "- The Student record consists of the student name, age, and the list of scores in Math, Science, and English\n",
        "- Make a function to print out the student record in the following format\n",
        "-- No return value. Use the same list of students. Do not create a new list.\n",
        "- Name: <student name> - Age: <student age> - Scores: <list of scores> - Total Score: <total score> - Average Score: <average score>\n",
        "- The function will take the list of students as an input and print out the student record for each student in the list\n",
        "\n",
        "students = [\n",
        "    [\"John\", 20, [80, 85, 90]],\n",
        "    [\"Jane\", 21, [82, 86, 89]],\n",
        "    [\"Doe\", 22, [84, 88, 92]]\n",
        "]\n",
        "```"
      ]
    },
    {
      "cell_type": "code",
      "execution_count": 12,
      "metadata": {
        "id": "004_wiRtNnTq",
        "outputId": "f57f6b04-07cb-4e88-9d40-2cf239c23845",
        "colab": {
          "base_uri": "https://localhost:8080/"
        }
      },
      "outputs": [
        {
          "output_type": "stream",
          "name": "stdout",
          "text": [
            "**********************************************************************\n",
            "Name: John - Age: 20 - Scores: [80, 85, 90] - Total Score: 255 - Average Score: 85.0\n",
            "Name: Jane - Age: 21 - Scores: [82, 86, 89] - Total Score: 257 - Average Score: 85.66666666666667\n",
            "Name: Doe - Age: 22 - Scores: [84, 88, 92] - Total Score: 264 - Average Score: 88.0\n",
            "Name: Kim - Age: 23 - Scores: [85, 89, 91] - Total Score: 265 - Average Score: 88.33333333333333\n",
            "Name: Lee - Age: 24 - Scores: [86, 90, 93] - Total Score: 269 - Average Score: 89.66666666666667\n",
            "Name: Alex - Age: 25 - Scores: [87, 91, 94] - Total Score: 272 - Average Score: 90.66666666666667\n",
            "Name: Kyle - Age: 26 - Scores: [88, 92, 95] - Total Score: 275 - Average Score: 91.66666666666667\n",
            "Name: Jenny - Age: 27 - Scores: [89, 93, 96] - Total Score: 278 - Average Score: 92.66666666666667\n",
            "Name: Jake - Age: 28 - Scores: [90, 94, 97] - Total Score: 281 - Average Score: 93.66666666666667\n",
            "Name: Jessica - Age: 29 - Scores: [91, 95, 98] - Total Score: 284 - Average Score: 94.66666666666667\n",
            "Name: Josh - Age: 30 - Scores: [92, 96, 99] - Total Score: 287 - Average Score: 95.66666666666667\n",
            "Name: Jill - Age: 31 - Scores: [93, 97, 100] - Total Score: 290 - Average Score: 96.66666666666667\n"
          ]
        }
      ],
      "source": [
        "def print_student_record(students):\n",
        "    ###################################################\n",
        "    # code here\n",
        "    # Name: John - Age: 20 - Scores: [80, 85, 90] - Total Score: 255 - Average Score: 85.0\n",
        "    # Name: Jane - Age: 21 - Scores: [82, 86, 89] - Total Score: 257 - Average Score: 85.67\n",
        "    # ...\n",
        "    ###################################################\n",
        "    print (\"**********************************************************************\")\n",
        "    for student in students:\n",
        "        print (f\"Name: {student[0]} - Age: {student[1]} - Scores: {student[2]} - Total Score: {sum(student[2])} - Average Score: {sum(student[2])/len(student[2])}\")\n",
        "\n",
        "\n",
        "\n",
        "students = [\n",
        "    [\"John\", 20, [80, 85, 90]],\n",
        "    [\"Jane\", 21, [82, 86, 89]],\n",
        "    [\"Doe\", 22, [84, 88, 92]],\n",
        "    ['Kim', 23, [85, 89, 91]],\n",
        "    ['Lee', 24, [86, 90, 93]],\n",
        "    ['Alex', 25, [87, 91, 94]],\n",
        "    ['Kyle', 26, [88, 92, 95]],\n",
        "    ['Jenny', 27, [89, 93, 96]],\n",
        "    ['Jake', 28, [90, 94, 97]],\n",
        "    ['Jessica', 29, [91, 95, 98]],\n",
        "    ['Josh', 30, [92, 96, 99]],\n",
        "    ['Jill', 31, [93, 97, 100]] ]\n",
        "\n",
        "print_student_record(students)\n",
        "\n",
        "\n"
      ]
    },
    {
      "cell_type": "markdown",
      "metadata": {
        "id": "KoUWWilMNnTr"
      },
      "source": [
        "## Make the function \"sort_students\" to sort the students by the the following criteria\n",
        "\n",
        "- Key = 1: Sort the students by the total score\n",
        "- Key = 2: Sort the students by the age\n",
        "- Key = 3: Sort the students by the name\n",
        "- Ascending = True: Sort in ascending order\n",
        "- Ascending = False: Sort in descending order\n",
        "```\n",
        "def sort_students(students, key, ascending):\n",
        "    ###################################################\n",
        "    # code here\n",
        "    ###################################################\n",
        "\n",
        "```\n"
      ]
    },
    {
      "cell_type": "code",
      "execution_count": 11,
      "metadata": {
        "id": "Tbj1iC4hNnTr",
        "colab": {
          "base_uri": "https://localhost:8080/"
        },
        "outputId": "294b5849-cad3-4507-c071-b2f0e3f3f696"
      },
      "outputs": [
        {
          "output_type": "stream",
          "name": "stdout",
          "text": [
            "Original list:\n",
            "{'name': 'Alice', 'age': 22, 'total_score': 85}\n",
            "{'name': 'Bob', 'age': 20, 'total_score': 90}\n",
            "{'name': 'Charlie', 'age': 23, 'total_score': 88}\n",
            "\n",
            "Sorted by total score (ascending):\n",
            "{'name': 'Alice', 'age': 22, 'total_score': 85}\n",
            "{'name': 'Charlie', 'age': 23, 'total_score': 88}\n",
            "{'name': 'Bob', 'age': 20, 'total_score': 90}\n",
            "\n",
            "Sorted by age (descending):\n",
            "{'name': 'Charlie', 'age': 23, 'total_score': 88}\n",
            "{'name': 'Alice', 'age': 22, 'total_score': 85}\n",
            "{'name': 'Bob', 'age': 20, 'total_score': 90}\n",
            "\n",
            "Sorted by name (ascending):\n",
            "{'name': 'Alice', 'age': 22, 'total_score': 85}\n",
            "{'name': 'Bob', 'age': 20, 'total_score': 90}\n",
            "{'name': 'Charlie', 'age': 23, 'total_score': 88}\n"
          ]
        }
      ],
      "source": [
        "def sort_students(students, key, ascending):\n",
        "    if key == 1:\n",
        "        # Sort by total score\n",
        "        students.sort(key=lambda x: x['total_score'], reverse=not ascending)\n",
        "    elif key == 2:\n",
        "        # Sort by age\n",
        "      students.sort(key=lambda x: x['age'], reverse=not ascending)\n",
        "    elif key == 3:\n",
        "        # Sort by name\n",
        "        students.sort(key=lambda x: x['name'], reverse=not ascending)\n",
        "\n",
        "# Example usage\n",
        "students = [\n",
        "    {'name' : 'Alice', 'age': 22, 'total_score': 85},\n",
        "    {'name' : 'Bob', 'age' : 20, 'total_score': 90},\n",
        "    {'name': 'Charlie', 'age': 23, 'total_score': 88}\n",
        "]\n",
        "\n",
        "def print_student_record(students):\n",
        "  for student in students:\n",
        "    print(student)\n",
        "\n",
        "print(\"Original list:\")\n",
        "print_student_record(students)\n",
        "\n",
        "print(\"\\nSorted by total score (ascending):\")\n",
        "sort_students(students, 1, True)\n",
        "print_student_record(students)\n",
        "\n",
        "print(\"\\nSorted by age (descending):\")\n",
        "sort_students(students, 2, False)\n",
        "print_student_record(students)\n",
        "\n",
        "print(\"\\nSorted by name (ascending):\")\n",
        "sort_students(students, 3, True)\n",
        "print_student_record(students)\n"
      ]
    },
    {
      "cell_type": "markdown",
      "metadata": {
        "id": "UVCABRWMNnTr"
      },
      "source": [
        "#### <p style=\"font-family: Arial; font-size:1.4em; background-color: yellow; color:black;\"> Problem #4.2 </p>"
      ]
    },
    {
      "cell_type": "markdown",
      "metadata": {
        "id": "LnoSt6TCNnTr"
      },
      "source": [
        "## Make the function \"reconstruct_list(rows, cols)\" that reconstructs the list of integers in the following way\n",
        "#### Return value: new list of list of integers\n",
        "\n",
        "- numbers = [ 1, 2, 3, 4, 5, 6, 7, 8, 9, 10, 11, 12, 13, 14, 15, 16, 17, 18, 19, 20, 21, 22, 23, 24]\n",
        "- reconstruct_list(rows, cols) will reform the list of list of integers with the number of rows and columns\n",
        "- For example, if rows = 4 and cols = 6, the function will return the following list of list of integers\n",
        "- numbers = [ [1, 2, 3, 4, 5, 6], [7, 8, 9, 10, 11, 12], [13, 14, 15, 16, 17, 18], [19, 20, 21, 22, 23, 24] ]\n",
        "- For example if rows = 2 and cols = 12,\n",
        "- numbers = [ [1, 2, 3, 4, 5, 6, 7, 8, 9, 10, 11, 12], [13, 14, 15, 16, 17, 18, 19, 20, 21, 22, 23, 24] ]\n",
        "- For example if rows = 8 and cols = 3,\n",
        "- numbers = [ [1, 2, 3], [4, 5, 6], [7, 8, 9], [10, 11, 12], [13, 14, 15], [16, 17, 18], [19, 20, 21], [22, 23, 24] ]\n",
        "```\n",
        "def reconstruct_list(numbers, rows, cols):\n",
        "    ###################################################\n",
        "    # code here\n",
        "    ###################################################\n",
        "\n",
        "```\n"
      ]
    },
    {
      "cell_type": "code",
      "execution_count": 1,
      "metadata": {
        "colab": {
          "base_uri": "https://localhost:8080/"
        },
        "id": "iGnpj7yGNnTr",
        "outputId": "1228f261-5138-425c-a911-41e02fd0d05a"
      },
      "outputs": [
        {
          "output_type": "stream",
          "name": "stdout",
          "text": [
            "[[1, 2, 3, 4, 5, 6]]\n"
          ]
        }
      ],
      "source": [
        "def reconstruct_list(numbers, rows, cols):\n",
        "    ###################################################\n",
        "    # code here\n",
        "    ###################################################\n",
        "    new_list = []\n",
        "    for i in range(rows):\n",
        "      start_index = i * cols\n",
        "      end_index = start_index + cols\n",
        "      new_list.append(numbers[start_index:end_index])\n",
        "      return new_list\n",
        "\n",
        "# Example usage\n",
        "numbers = [ 1, 2, 3, 4, 5, 6, 7, 8, 9, 10, 11, 12, 13, 14, 15, 16, 17, 18, 19, 20, 21, 22, 23, 24]\n",
        "new_numbers = reconstruct_list(numbers, 4, 6)\n",
        "print (new_numbers)"
      ]
    },
    {
      "cell_type": "markdown",
      "source": [
        "4.2 done"
      ],
      "metadata": {
        "id": "nf4gJYXeRtxe"
      }
    },
    {
      "cell_type": "markdown",
      "metadata": {
        "id": "1ztoxhENNnTr"
      },
      "source": [
        "<mark> Save your file by pressing \"Ctrl+S\" or \"git commit -m \"your message\"\" </mark>"
      ]
    },
    {
      "cell_type": "markdown",
      "metadata": {
        "id": "Zf2Qla5tNnTs"
      },
      "source": [
        "***\n",
        "\n",
        "## <p style=\"background-color: grey; color: white \"> ◼️  List </p>\n",
        "# <p style=\"font-family: Arial; font-size:1.4em;color:red;\"> 5. any() and all()\n",
        "\n"
      ]
    },
    {
      "cell_type": "markdown",
      "metadata": {
        "id": "BHq5uiFqNnTs"
      },
      "source": [
        "Use the any() and all() functions to check the elements in the list\n",
        "\n",
        "#### <p style=\"font-family: Arial; font-size:1.4em; background-color: yellow; color:black;\"> Problem #5.1 </p>\n",
        "\n",
        "#### Run the following code segment and figure out the output of the code segment"
      ]
    },
    {
      "cell_type": "code",
      "execution_count": null,
      "metadata": {
        "id": "WNwY0y6PNnTs",
        "outputId": "ad80cfe0-6b9a-4909-fda3-ebc13b143d6d",
        "colab": {
          "base_uri": "https://localhost:8080/"
        }
      },
      "outputs": [
        {
          "output_type": "execute_result",
          "data": {
            "text/plain": [
              "True"
            ]
          },
          "metadata": {},
          "execution_count": 126
        }
      ],
      "source": [
        "numbers = [1, 2, 3, 4, 5, 6, 7, 8, 9, 10]\n",
        "\n",
        "any( x % 2 == 0 for x in numbers)"
      ]
    },
    {
      "cell_type": "code",
      "execution_count": null,
      "metadata": {
        "id": "JC5wTjn5NnTs",
        "outputId": "19a5bf6b-34c3-4a88-bded-561fed80ba04",
        "colab": {
          "base_uri": "https://localhost:8080/"
        }
      },
      "outputs": [
        {
          "output_type": "execute_result",
          "data": {
            "text/plain": [
              "True"
            ]
          },
          "metadata": {},
          "execution_count": 125
        }
      ],
      "source": [
        "all ( x > 0 for x in numbers)"
      ]
    },
    {
      "cell_type": "markdown",
      "source": [
        "5.1 done"
      ],
      "metadata": {
        "id": "2jwAZX74Rnwl"
      }
    },
    {
      "cell_type": "markdown",
      "metadata": {
        "id": "IUMsjAYhNnTs"
      },
      "source": [
        "Use the any() and all() functions to check the elements in the list\n",
        "\n",
        "#### <p style=\"font-family: Arial; font-size:1.4em; background-color: yellow; color:black;\"> Problem #5.2</p>\n",
        "\n",
        "#### Make the function isSubset(numbers1, numbers2) to check if the numbers1 is a subset of numbers2\n",
        "- Return True if the numbers1 is a subset of numbers2\n",
        "- Return False otherwise\n",
        "- Use the any() and all() functions to check the elements in the list\n"
      ]
    },
    {
      "cell_type": "code",
      "execution_count": null,
      "metadata": {
        "collapsed": true,
        "colab": {
          "base_uri": "https://localhost:8080/"
        },
        "id": "8tkNHTgmNnTs",
        "outputId": "821b4f1e-296c-4af4-b228-78549ac36ecd"
      },
      "outputs": [
        {
          "output_type": "stream",
          "name": "stdout",
          "text": [
            "True\n"
          ]
        }
      ],
      "source": [
        "def isSubset(numbers1, numbers2):\n",
        "    ###################################################\n",
        "    return all(any(num1 == num2 for num2 in numbers2) for num1 in numbers1)\n",
        "    ###################################################\n",
        "\n",
        "\n",
        "numbers1 = [1, 2, 3]\n",
        "numbers2 = [1, 2, 3, 4, 5, 6, 7, 8, 9, 10]\n",
        "print (isSubset(numbers1, numbers2))\n",
        "\n"
      ]
    },
    {
      "cell_type": "markdown",
      "source": [
        "5.2 done"
      ],
      "metadata": {
        "id": "1OqBIZKARkXr"
      }
    },
    {
      "cell_type": "markdown",
      "metadata": {
        "id": "X0U_sBv6NnTs"
      },
      "source": [
        "<mark> Save your file by pressing \"Ctrl+S\" or \"git commit -m \"your message\"\" </mark>"
      ]
    }
  ],
  "metadata": {
    "kernelspec": {
      "display_name": "Python 3.9.13 ('base')",
      "language": "python",
      "name": "python3"
    },
    "language_info": {
      "codemirror_mode": {
        "name": "ipython",
        "version": 3
      },
      "file_extension": ".py",
      "mimetype": "text/x-python",
      "name": "python",
      "nbconvert_exporter": "python",
      "pygments_lexer": "ipython3",
      "version": "3.9.17"
    },
    "orig_nbformat": 4,
    "vscode": {
      "interpreter": {
        "hash": "32cd87c0c55905266dc8232ebf1148f668af0d9324249c125246585210a29cd6"
      }
    },
    "colab": {
      "provenance": [],
      "include_colab_link": true
    }
  },
  "nbformat": 4,
  "nbformat_minor": 0
}